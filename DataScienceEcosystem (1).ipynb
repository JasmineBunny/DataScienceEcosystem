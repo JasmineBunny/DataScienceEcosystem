{
 "cells": [
  {
   "cell_type": "markdown",
   "id": "2916b4cb-df48-497a-89a3-dd713006fe46",
   "metadata": {},
   "source": [
    "# Data Science Tools and Ecosystem"
   ]
  },
  {
   "cell_type": "markdown",
   "id": "347e2cae-19df-48de-a9b3-c2dc6f958c4f",
   "metadata": {},
   "source": [
    "This notebook contains a summary of Data Science and Ecosystem."
   ]
  },
  {
   "cell_type": "markdown",
   "id": "56eef885-d494-4407-83b5-39f813cd7374",
   "metadata": {},
   "source": [
    "Some popular languages that Data Scientist utilize are:"
   ]
  },
  {
   "cell_type": "markdown",
   "id": "8d36429a-dc2b-4c40-88d9-5bd658503030",
   "metadata": {},
   "source": [
    "1. Python\n",
    "2. SQL\n",
    "3. Java\n",
    "4. R\n",
    "5. C++"
   ]
  },
  {
   "cell_type": "markdown",
   "id": "21237692-7272-4798-b3b0-3b3556c90d44",
   "metadata": {},
   "source": [
    "Some of the most common used libraries used by data scientist are:"
   ]
  },
  {
   "cell_type": "markdown",
   "id": "ef1b9420-74c6-427e-82ec-61539f21bacb",
   "metadata": {},
   "source": [
    "1. TensorFlow\n",
    "2. NumPy\n",
    "3. SciPy\n",
    "4. Matplotlib\n",
    "5. Pandas\n",
    "6. PyTorch\n",
    "7. Keras\n",
    "8. SciKit-Learn"
   ]
  },
  {
   "cell_type": "markdown",
   "id": "5ee91192-be03-4465-944b-e5f054cb8d71",
   "metadata": {},
   "source": [
    "|Data Science Tools|\n",
    "|---|\n",
    "|SAS|\n",
    "|Apache Hadoop|\n",
    "|TensorFlow|"
   ]
  },
  {
   "cell_type": "markdown",
   "id": "51c0a9dd-055c-4b08-b5f3-01da5cd27ee0",
   "metadata": {},
   "source": [
    "Below are examples of evaluating arithmetic expression in Python."
   ]
  },
  {
   "cell_type": "code",
   "execution_count": 29,
   "id": "2ff6ee5b-f950-4166-8ed8-3a0c72afa250",
   "metadata": {},
   "outputs": [
    {
     "data": {
      "text/plain": [
       "17"
      ]
     },
     "execution_count": 29,
     "metadata": {},
     "output_type": "execute_result"
    }
   ],
   "source": [
    "#This is a common arithmetic example to multiply and then add integers\n",
    "(3*4)+5"
   ]
  },
  {
   "cell_type": "code",
   "execution_count": 31,
   "id": "6dfca493-d198-4e33-9f28-93b556af1ba1",
   "metadata": {},
   "outputs": [
    {
     "data": {
      "text/plain": [
       "3.3333333333333335"
      ]
     },
     "execution_count": 31,
     "metadata": {},
     "output_type": "execute_result"
    }
   ],
   "source": [
    "#This will convert 200 minutes to hours by dividing by 60\n",
    "200/60"
   ]
  },
  {
   "cell_type": "markdown",
   "id": "b23b40cd-e3c1-4d83-8e5a-a6b6c15962a0",
   "metadata": {},
   "source": [
    "__Objective__"
   ]
  },
  {
   "cell_type": "markdown",
   "id": "e26d11b6-353b-482a-8140-aa8beff395f4",
   "metadata": {},
   "source": [
    "* List of popular languages for Data Science\n",
    "* List of popular libraires for Data Science\n",
    "* List of well known Data Science Tools\n",
    "* How to provide comments in the cell"
   ]
  },
  {
   "cell_type": "markdown",
   "id": "3e297933-813f-4f23-bfa5-9515a1101892",
   "metadata": {},
   "source": [
    "## Author\n",
    "Jasmine Vasquez"
   ]
  }
 ],
 "metadata": {
  "kernelspec": {
   "display_name": "Python 3 (ipykernel)",
   "language": "python",
   "name": "python3"
  },
  "language_info": {
   "codemirror_mode": {
    "name": "ipython",
    "version": 3
   },
   "file_extension": ".py",
   "mimetype": "text/x-python",
   "name": "python",
   "nbconvert_exporter": "python",
   "pygments_lexer": "ipython3",
   "version": "3.12.4"
  }
 },
 "nbformat": 4,
 "nbformat_minor": 5
}
